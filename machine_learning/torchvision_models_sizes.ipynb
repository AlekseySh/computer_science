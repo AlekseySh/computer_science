{
 "cells": [
  {
   "cell_type": "code",
   "execution_count": 29,
   "id": "alternative-teach",
   "metadata": {
    "scrolled": false
   },
   "outputs": [
    {
     "name": "stdout",
     "output_type": "stream",
     "text": [
      "pretrained: True  squeezenet1_1: 1.24M\n",
      "pretrained: True  squeezenet1_0: 1.25M\n",
      "pretrained: True  shufflenet_v2_x0_5: 1.37M\n",
      "pretrained: True  mnasnet0_5: 2.22M\n",
      "pretrained: True  shufflenet_v2_x1_0: 2.28M\n",
      "pretrained: False  mnasnet0_75: 3.17M\n",
      "pretrained: False  shufflenet_v2_x1_5: 3.5M\n",
      "pretrained: True  mobilenet_v2: 3.5M\n",
      "pretrained: True  mnasnet1_0: 4.38M\n",
      "pretrained: False  mnasnet1_3: 6.28M\n",
      "pretrained: True  googlenet: 6.62M\n",
      "pretrained: False  shufflenet_v2_x2_0: 7.39M\n",
      "pretrained: True  densenet121: 7.98M\n",
      "pretrained: True  resnet18: 11.7M\n",
      "pretrained: True  densenet169: 14.1M\n",
      "pretrained: True  densenet201: 20M\n",
      "pretrained: True  resnet34: 21.8M\n",
      "pretrained: True  resnext50_32x4d: 25M\n",
      "pretrained: True  resnet50: 25.6M\n",
      "pretrained: True  inception_v3: 27.2M\n",
      "pretrained: True  densenet161: 28.7M\n",
      "pretrained: True  resnet101: 44.5M\n",
      "pretrained: True  resnet152: 60.2M\n",
      "pretrained: True  alexnet: 61.1M\n",
      "pretrained: True  wide_resnet50_2: 68.9M\n",
      "pretrained: True  resnext101_32x8d: 88.8M\n",
      "pretrained: True  wide_resnet101_2: 127M\n",
      "pretrained: True  vgg11: 133M\n",
      "pretrained: True  vgg11_bn: 133M\n",
      "pretrained: True  vgg13: 133M\n",
      "pretrained: True  vgg13_bn: 133M\n",
      "pretrained: True  vgg16: 138M\n",
      "pretrained: True  vgg16_bn: 138M\n",
      "pretrained: True  vgg19: 144M\n",
      "pretrained: True  vgg19_bn: 144M\n"
     ]
    }
   ],
   "source": [
    "import torchvision.models as m\n",
    "\n",
    "\n",
    "def human_format(x):\n",
    "    x = float(\"{:.3g}\".format(x))\n",
    "    magnitude = 0\n",
    "    while abs(x) >= 1000:\n",
    "        magnitude += 1\n",
    "        x /= 1000.0\n",
    "    postfixes = [\"\", \"K\", \"M\", \"B\", \"T\"]\n",
    "    return \"{}{}\".format(\"{:f}\".format(x).rstrip(\"0\").rstrip(\".\"), postfixes[magnitude])\n",
    "\n",
    "\n",
    "stat = []\n",
    "\n",
    "for mname in dir(m):\n",
    "    if not mname.startswith('__'):\n",
    "        try:\n",
    "            try:\n",
    "                model = getattr(m, mname)(pretrained=True)\n",
    "                p = True\n",
    "            except:\n",
    "                model = getattr(m, mname)(pretrained=False)\n",
    "                p = False\n",
    "                \n",
    "            n = sum(p.numel() for p in model.parameters())\n",
    "            stat.append((mname, n, p))\n",
    "        except:\n",
    "            pass\n",
    "\n",
    "        \n",
    "stat.sort(key=lambda x: x[1])\n",
    "\n",
    "for mname, n, p in stat:\n",
    "    print(f'pretrained: {p}  {mname}: {human_format(n)}')"
   ]
  },
  {
   "cell_type": "code",
   "execution_count": null,
   "id": "experimental-surprise",
   "metadata": {},
   "outputs": [],
   "source": []
  }
 ],
 "metadata": {
  "hide_input": false,
  "kernelspec": {
   "display_name": "Python 3",
   "language": "python",
   "name": "python3"
  },
  "language_info": {
   "codemirror_mode": {
    "name": "ipython",
    "version": 3
   },
   "file_extension": ".py",
   "mimetype": "text/x-python",
   "name": "python",
   "nbconvert_exporter": "python",
   "pygments_lexer": "ipython3",
   "version": "3.8.5"
  }
 },
 "nbformat": 4,
 "nbformat_minor": 5
}
