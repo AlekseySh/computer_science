{
 "cells": [
  {
   "cell_type": "code",
   "execution_count": 20,
   "id": "77ad6a54",
   "metadata": {},
   "outputs": [
    {
     "name": "stdout",
     "output_type": "stream",
     "text": [
      "4\n"
     ]
    }
   ],
   "source": [
    "from sklearn.datasets import load_iris\n",
    "import numpy as np\n",
    "from pprint import pprint\n",
    "from sklearn.model_selection import train_test_split\n",
    "import scipy.stats\n",
    "\n",
    "class NaiveBayes:\n",
    "    \n",
    "    def __init__(self):\n",
    "        self.means = None\n",
    "        self.stds = None\n",
    "        self.y_prob = None\n",
    "    \n",
    "    def fit(self, x, y):\n",
    "        self.n_classes = len(np.unique(y))\n",
    "        self.n_features = x.shape[-1]\n",
    "        \n",
    "        self.means = np.zeros((self.n_classes, self.n_features))\n",
    "        self.stds = np.zeros((self.n_classes, self.n_features))\n",
    "        self.y_prob = np.zeros(self.n_classes)\n",
    "        \n",
    "        for yi in np.unique(y):\n",
    "            feat = x[y == yi]\n",
    "            self.means[yi] = np.mean(feat, 0)\n",
    "            self.stds[yi] = np.std(feat, 0)\n",
    "            self.y_prob[yi] = (y == yi).sum() / len(y)\n",
    "            \n",
    "                    \n",
    "    def predict(self, x):\n",
    "        probs = np.zeros((len(x), self.n_classes))\n",
    "                \n",
    "        for i, y in enumerate(range(self.n_classes)):\n",
    "            prob = np.prod(scipy.stats.norm(self.means[y], self.stds[y]).pdf(x), 1)\n",
    "            probs[:, i] = prob\n",
    "            \n",
    "        probs *= self.y_prob\n",
    "                               \n",
    "        y = np.argmax(probs, 1)\n",
    "                \n",
    "        return y\n",
    "    \n",
    "    \n",
    "X, y = load_iris(return_X_y=True)\n",
    "X_train, X_test, y_train, y_test = train_test_split(X, y, random_state=0, test_size=0.5)\n",
    "\n",
    "nb = NaiveBayes()\n",
    "nb.fit(X_train, y_train)\n",
    "y_pred = nb.predict(X_test)\n",
    "\n",
    "n_err = (y_pred != y_test).sum()\n",
    "print(n_err)\n"
   ]
  },
  {
   "cell_type": "code",
   "execution_count": null,
   "id": "14e682bb",
   "metadata": {},
   "outputs": [],
   "source": []
  }
 ],
 "metadata": {
  "kernelspec": {
   "display_name": "Python 3 (ipykernel)",
   "language": "python",
   "name": "python3"
  },
  "language_info": {
   "codemirror_mode": {
    "name": "ipython",
    "version": 3
   },
   "file_extension": ".py",
   "mimetype": "text/x-python",
   "name": "python",
   "nbconvert_exporter": "python",
   "pygments_lexer": "ipython3",
   "version": "3.9.12"
  }
 },
 "nbformat": 4,
 "nbformat_minor": 5
}
