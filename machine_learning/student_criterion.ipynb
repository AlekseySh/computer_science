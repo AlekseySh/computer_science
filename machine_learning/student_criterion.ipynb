{
 "cells": [
  {
   "cell_type": "code",
   "execution_count": null,
   "metadata": {},
   "outputs": [],
   "source": [
    "import numpy as np\n",
    "import matplotlib.pyplot as plt\n",
    "from scipy.stats import ttest_ind as t\n",
    "from scipy.stats import t as tstudent\n",
    "from scipy import stats\n",
    "from scipy.stats import norm\n",
    "\n",
    "\n",
    "def t2(x, y):\n",
    "    n1 = len(x)\n",
    "    n2 = len(y)\n",
    "    \n",
    "    s1_2 = np.var(x)\n",
    "    s2_2 = np.var(y)\n",
    "        \n",
    "    s = np.sqrt(((n1 - 1) * s1_2 + (n2 - 1) * s2_2) / (n1 + n2 - 2))\n",
    "    \n",
    "    crit = (x.mean() - y.mean()) / (s * np.sqrt(1/n1 + 1/n2))\n",
    "                                    \n",
    "    return crit\n",
    "\n",
    "    \n",
    "\n",
    "np.random.seed(50)\n",
    "n = 2000\n",
    "x = np.random.randn(n)\n",
    "y = np.random.randn(n)\n",
    "\n",
    "# library\n",
    "ans = t(x, y)\n",
    "x_lib = ans.statistic\n",
    "p_lib = ans.pvalue\n",
    "print('lib', x_lib, p_lib)  \n",
    "    \n",
    "# our\n",
    "x_our = t2(x, y)\n",
    "y_our = (1 - tstudent.cdf(x=abs(x_our), df=n)) * 2\n",
    "print(\"our\", x_our, y_our)\n",
    "\n"
   ]
  }
 ],
 "metadata": {
  "kernelspec": {
   "display_name": "Python 3",
   "language": "python",
   "name": "python3"
  },
  "language_info": {
   "codemirror_mode": {
    "name": "ipython",
    "version": 3
   },
   "file_extension": ".py",
   "mimetype": "text/x-python",
   "name": "python",
   "nbconvert_exporter": "python",
   "pygments_lexer": "ipython3",
   "version": "3.7.3"
  },
  "varInspector": {
   "cols": {
    "lenName": 16,
    "lenType": 16,
    "lenVar": 40
   },
   "kernels_config": {
    "python": {
     "delete_cmd_postfix": "",
     "delete_cmd_prefix": "del ",
     "library": "var_list.py",
     "varRefreshCmd": "print(var_dic_list())"
    },
    "r": {
     "delete_cmd_postfix": ") ",
     "delete_cmd_prefix": "rm(",
     "library": "var_list.r",
     "varRefreshCmd": "cat(var_dic_list()) "
    }
   },
   "types_to_exclude": [
    "module",
    "function",
    "builtin_function_or_method",
    "instance",
    "_Feature"
   ],
   "window_display": false
  }
 },
 "nbformat": 4,
 "nbformat_minor": 2
}
