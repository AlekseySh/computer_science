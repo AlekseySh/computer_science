{
 "cells": [
  {
   "cell_type": "code",
   "execution_count": 15,
   "id": "modified-increase",
   "metadata": {},
   "outputs": [],
   "source": [
    "import numpy as np\n",
    "import sklearn.metrics as m\n",
    "\n",
    "pred = np.random.randint(0, 2, size=50)\n",
    "gt = np.random.randint(0, 2, size=50)\n",
    "\n",
    "weights = np.ones_like(gt)\n",
    "weights[gt==1] = 1"
   ]
  },
  {
   "cell_type": "code",
   "execution_count": 17,
   "id": "parallel-management",
   "metadata": {},
   "outputs": [
    {
     "name": "stdout",
     "output_type": "stream",
     "text": [
      "weighted\n",
      "f1: 0.45103448275862074\n",
      "p: 0.4742307692307692\n",
      "r: 0.44\n",
      "acc: 0.44\n",
      "\n",
      "micro\n",
      "f1: 0.44\n",
      "p: 0.44\n",
      "r: 0.44\n",
      "acc: 0.44\n",
      "\n",
      "macro\n",
      "f1: 0.4252873563218391\n",
      "p: 0.4342948717948718\n",
      "r: 0.4288194444444444\n",
      "acc: 0.44\n",
      "\n",
      "None\n",
      "f1: [0.51724138 0.33333333]\n",
      "p: [0.57692308 0.29166667]\n",
      "r: [0.46875    0.38888889]\n",
      "acc: 0.44\n",
      "\n",
      "binary\n",
      "f1: 0.3333333333333333\n",
      "p: 0.2916666666666667\n",
      "r: 0.3888888888888889\n",
      "acc: 0.44\n",
      "\n"
     ]
    }
   ],
   "source": [
    "for kind in ['weighted', 'micro', 'macro', None, 'binary']:\n",
    "\n",
    "\n",
    "    arg = {'average': kind, 'sample_weight': weights}\n",
    "\n",
    "    print(kind)\n",
    "    for n, s in [('f1', m.f1_score(y_true=gt, y_pred=pred, **arg)),\n",
    "                 ('p', m.precision_score(y_true=gt, y_pred=pred, **arg)),\n",
    "                 ('r', m.recall_score(y_true=gt, y_pred=pred, **arg)),\n",
    "                 ('acc', m.accuracy_score(y_true=gt, y_pred=pred))]:\n",
    "        print(f'{n}: {s}')\n",
    "    print()"
   ]
  },
  {
   "cell_type": "code",
   "execution_count": null,
   "id": "varying-tours",
   "metadata": {},
   "outputs": [],
   "source": []
  }
 ],
 "metadata": {
  "hide_input": false,
  "kernelspec": {
   "display_name": "Python 3",
   "language": "python",
   "name": "python3"
  },
  "language_info": {
   "codemirror_mode": {
    "name": "ipython",
    "version": 3
   },
   "file_extension": ".py",
   "mimetype": "text/x-python",
   "name": "python",
   "nbconvert_exporter": "python",
   "pygments_lexer": "ipython3",
   "version": "3.8.5"
  }
 },
 "nbformat": 4,
 "nbformat_minor": 5
}
